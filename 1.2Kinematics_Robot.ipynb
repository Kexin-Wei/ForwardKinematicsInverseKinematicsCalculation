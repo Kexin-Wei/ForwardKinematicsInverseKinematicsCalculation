{
 "cells": [
  {
   "cell_type": "markdown",
   "metadata": {},
   "source": [
    "# 2D Parallel Robot"
   ]
  },
  {
   "cell_type": "markdown",
   "metadata": {},
   "source": [
    "if run in jupyterlab, please run below code"
   ]
  },
  {
   "cell_type": "code",
   "execution_count": 1,
   "metadata": {},
   "outputs": [],
   "source": [
    "import os\n",
    "cwd = os.getcwd()\n",
    "os.chdir(os.path.expanduser(cwd))"
   ]
  },
  {
   "cell_type": "code",
   "execution_count": 1,
   "metadata": {},
   "outputs": [],
   "source": [
    "import matplotlib.pyplot as plt\n",
    "from lib.robot.robot import Robot2D\n",
    "from lib.robot.joint import Joint2D, JointType"
   ]
  },
  {
   "cell_type": "markdown",
   "metadata": {},
   "source": [
    "Set up a serial robot with 2 links 2 joints"
   ]
  },
  {
   "cell_type": "code",
   "execution_count": 2,
   "metadata": {},
   "outputs": [
    {
     "ename": "TypeError",
     "evalue": "unsupported operand type(s) for -: 'float' and 'property'",
     "output_type": "error",
     "traceback": [
      "\u001b[0;31m---------------------------------------------------------------------------\u001b[0m",
      "\u001b[0;31mTypeError\u001b[0m                                 Traceback (most recent call last)",
      "Cell \u001b[0;32mIn[2], line 4\u001b[0m\n\u001b[1;32m      1\u001b[0m joint1 \u001b[38;5;241m=\u001b[39m Joint2D(j_type\u001b[38;5;241m=\u001b[39mJointType\u001b[38;5;241m.\u001b[39mrevolute, x\u001b[38;5;241m=\u001b[39m\u001b[38;5;241m0\u001b[39m, y\u001b[38;5;241m=\u001b[39m\u001b[38;5;241m0\u001b[39m, theta\u001b[38;5;241m=\u001b[39m\u001b[38;5;241m0\u001b[39m, l\u001b[38;5;241m=\u001b[39m\u001b[38;5;241m2\u001b[39m, name\u001b[38;5;241m=\u001b[39m\u001b[38;5;124m\"\u001b[39m\u001b[38;5;124mjoint1\u001b[39m\u001b[38;5;124m\"\u001b[39m)\n\u001b[1;32m      2\u001b[0m joint2 \u001b[38;5;241m=\u001b[39m joint1\u001b[38;5;241m.\u001b[39mappend_joint(JointType\u001b[38;5;241m.\u001b[39mrevolute, \u001b[38;5;241m0\u001b[39m, \u001b[38;5;241m1\u001b[39m, \u001b[38;5;124m\"\u001b[39m\u001b[38;5;124mjoint2\u001b[39m\u001b[38;5;124m\"\u001b[39m)\n\u001b[0;32m----> 4\u001b[0m robot \u001b[38;5;241m=\u001b[39m \u001b[43mRobot2D\u001b[49m\u001b[38;5;241;43m.\u001b[39;49m\u001b[43mfrom_joint_list\u001b[49m\u001b[43m(\u001b[49m\u001b[43m[\u001b[49m\u001b[43mjoint1\u001b[49m\u001b[43m,\u001b[49m\u001b[43m \u001b[49m\u001b[43mjoint2\u001b[49m\u001b[43m]\u001b[49m\u001b[43m)\u001b[49m\n",
      "File \u001b[0;32m~/GitRepos/Robotics_demo/lib/robot/robot.py:28\u001b[0m, in \u001b[0;36mRobot2D.from_joint_list\u001b[0;34m(cls, joint_list)\u001b[0m\n\u001b[1;32m     25\u001b[0m \u001b[38;5;129m@classmethod\u001b[39m\n\u001b[1;32m     26\u001b[0m \u001b[38;5;28;01mdef\u001b[39;00m \u001b[38;5;21mfrom_joint_list\u001b[39m(\u001b[38;5;28mcls\u001b[39m, joint_list: \u001b[38;5;28mlist\u001b[39m[Joint2D]):\n\u001b[1;32m     27\u001b[0m     robot \u001b[38;5;241m=\u001b[39m \u001b[38;5;28mcls\u001b[39m()\n\u001b[0;32m---> 28\u001b[0m     \u001b[43mrobot\u001b[49m\u001b[38;5;241;43m.\u001b[39;49m\u001b[43madd_joints\u001b[49m\u001b[43m(\u001b[49m\u001b[43mjoint_list\u001b[49m\u001b[43m)\u001b[49m\n\u001b[1;32m     29\u001b[0m     \u001b[38;5;28;01mreturn\u001b[39;00m robot\n",
      "File \u001b[0;32m~/GitRepos/Robotics_demo/lib/robot/robot.py:114\u001b[0m, in \u001b[0;36mRobot2D.add_joints\u001b[0;34m(self, joints, joint_relation)\u001b[0m\n\u001b[1;32m    112\u001b[0m \u001b[38;5;28;01melif\u001b[39;00m i \u001b[38;5;241m>\u001b[39m \u001b[38;5;241m0\u001b[39m:\n\u001b[1;32m    113\u001b[0m     parent_name \u001b[38;5;241m=\u001b[39m joints[i \u001b[38;5;241m-\u001b[39m \u001b[38;5;241m1\u001b[39m]\u001b[38;5;241m.\u001b[39mname\n\u001b[0;32m--> 114\u001b[0m \u001b[38;5;28;43mself\u001b[39;49m\u001b[38;5;241;43m.\u001b[39;49m\u001b[43madd_joint\u001b[49m\u001b[43m(\u001b[49m\u001b[43mj\u001b[49m\u001b[43m,\u001b[49m\u001b[43m \u001b[49m\u001b[43mparent_name\u001b[49m\u001b[43m)\u001b[49m\n",
      "File \u001b[0;32m~/GitRepos/Robotics_demo/lib/robot/robot.py:103\u001b[0m, in \u001b[0;36mRobot2D.add_joint\u001b[0;34m(self, joint, parent)\u001b[0m\n\u001b[1;32m    101\u001b[0m \u001b[38;5;28mself\u001b[39m\u001b[38;5;241m.\u001b[39madd_node(joint\u001b[38;5;241m.\u001b[39mname, parent_name)\n\u001b[1;32m    102\u001b[0m \u001b[38;5;28mself\u001b[39m\u001b[38;5;241m.\u001b[39mjoint_name_map[joint\u001b[38;5;241m.\u001b[39mname] \u001b[38;5;241m=\u001b[39m joint\n\u001b[0;32m--> 103\u001b[0m \u001b[38;5;28;43mself\u001b[39;49m\u001b[38;5;241;43m.\u001b[39;49m\u001b[43m_check_joint_connection\u001b[49m\u001b[43m(\u001b[49m\u001b[43mjoint\u001b[49m\u001b[38;5;241;43m.\u001b[39;49m\u001b[43mname\u001b[49m\u001b[43m,\u001b[49m\u001b[43m \u001b[49m\u001b[43mparent_name\u001b[49m\u001b[43m)\u001b[49m\n",
      "File \u001b[0;32m~/GitRepos/Robotics_demo/lib/robot/robot.py:87\u001b[0m, in \u001b[0;36mRobot2D._check_joint_connection\u001b[0;34m(self, joint_name, parent_name)\u001b[0m\n\u001b[1;32m     85\u001b[0m j \u001b[38;5;241m=\u001b[39m \u001b[38;5;28mself\u001b[39m\u001b[38;5;241m.\u001b[39mjoint_name_map[joint_name]\n\u001b[1;32m     86\u001b[0m parent_j \u001b[38;5;241m=\u001b[39m \u001b[38;5;28mself\u001b[39m\u001b[38;5;241m.\u001b[39mjoint_name_map[parent_name]\n\u001b[0;32m---> 87\u001b[0m loc_error \u001b[38;5;241m=\u001b[39m (\u001b[43mparent_j\u001b[49m\u001b[38;5;241;43m.\u001b[39;49m\u001b[43mxn\u001b[49m\u001b[43m \u001b[49m\u001b[38;5;241;43m-\u001b[39;49m\u001b[43m \u001b[49m\u001b[43mj\u001b[49m\u001b[38;5;241;43m.\u001b[39;49m\u001b[43mx\u001b[49m) \u001b[38;5;241m*\u001b[39m\u001b[38;5;241m*\u001b[39m \u001b[38;5;241m2\u001b[39m \u001b[38;5;241m+\u001b[39m (parent_j\u001b[38;5;241m.\u001b[39myn \u001b[38;5;241m-\u001b[39m j\u001b[38;5;241m.\u001b[39my) \u001b[38;5;241m*\u001b[39m\u001b[38;5;241m*\u001b[39m \u001b[38;5;241m2\u001b[39m\n\u001b[1;32m     88\u001b[0m \u001b[38;5;28;01massert\u001b[39;00m loc_error \u001b[38;5;241m<\u001b[39m \u001b[38;5;241m1e-6\u001b[39m, (\n\u001b[1;32m     89\u001b[0m     \u001b[38;5;124mf\u001b[39m\u001b[38;5;124m\"\u001b[39m\u001b[38;5;124mThe joints must be connected to each other. \u001b[39m\u001b[38;5;124m\"\u001b[39m\n\u001b[1;32m     90\u001b[0m     \u001b[38;5;124mf\u001b[39m\u001b[38;5;124m\"\u001b[39m\u001b[38;5;132;01m{\u001b[39;00mj\u001b[38;5;241m.\u001b[39mname\u001b[38;5;132;01m}\u001b[39;00m\u001b[38;5;124m started at (\u001b[39m\u001b[38;5;132;01m{\u001b[39;00mj\u001b[38;5;241m.\u001b[39mx\u001b[38;5;132;01m}\u001b[39;00m\u001b[38;5;124m,\u001b[39m\u001b[38;5;132;01m{\u001b[39;00mj\u001b[38;5;241m.\u001b[39my\u001b[38;5;132;01m}\u001b[39;00m\u001b[38;5;124m), \u001b[39m\u001b[38;5;124m\"\u001b[39m\n\u001b[1;32m     91\u001b[0m     \u001b[38;5;124mf\u001b[39m\u001b[38;5;124m\"\u001b[39m\u001b[38;5;124mbut the previous joint ended at (\u001b[39m\u001b[38;5;132;01m{\u001b[39;00mparent_j\u001b[38;5;241m.\u001b[39mxn\u001b[38;5;132;01m}\u001b[39;00m\u001b[38;5;124m,\u001b[39m\u001b[38;5;132;01m{\u001b[39;00mparent_j\u001b[38;5;241m.\u001b[39myn\u001b[38;5;132;01m}\u001b[39;00m\u001b[38;5;124m).\u001b[39m\u001b[38;5;124m\"\u001b[39m\n\u001b[1;32m     92\u001b[0m )\n",
      "\u001b[0;31mTypeError\u001b[0m: unsupported operand type(s) for -: 'float' and 'property'"
     ]
    }
   ],
   "source": [
    "joint1 = Joint2D(j_type=JointType.revolute, x=0, y=0, theta=0, l=2, name=\"joint1\")\n",
    "joint2 = joint1.append_joint(JointType.revolute, 0, 1, \"joint2\")\n",
    "\n",
    "robot = Robot2D.from_joint_list([joint1, joint2])"
   ]
  },
  {
   "cell_type": "code",
   "execution_count": null,
   "metadata": {},
   "outputs": [],
   "source": []
  }
 ],
 "metadata": {
  "kernelspec": {
   "display_name": "Python 3 (ipykernel)",
   "language": "python",
   "name": "python3"
  },
  "language_info": {
   "codemirror_mode": {
    "name": "ipython",
    "version": 3
   },
   "file_extension": ".py",
   "mimetype": "text/x-python",
   "name": "python",
   "nbconvert_exporter": "python",
   "pygments_lexer": "ipython3",
   "version": "3.10.13"
  }
 },
 "nbformat": 4,
 "nbformat_minor": 4
}
